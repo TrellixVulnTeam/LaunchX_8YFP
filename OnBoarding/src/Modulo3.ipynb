{
 "cells": [
  {
   "cell_type": "markdown",
   "metadata": {},
   "source": [
    "# Declaraciones ``if``, ``else`` y ``elif``"
   ]
  },
  {
   "cell_type": "markdown",
   "metadata": {},
   "source": [
    "Lógica condicional que imprime una advertencia si un asteroide se acerca a la Tierra demasiado rápido."
   ]
  },
  {
   "cell_type": "code",
   "execution_count": 1,
   "metadata": {},
   "outputs": [
    {
     "name": "stdout",
     "output_type": "stream",
     "text": [
      "¡Cuidado Explorer, se acerca un asteroide demasiado rápido!\n"
     ]
    }
   ],
   "source": [
    "velocidad_asteroide = 49 #km/s\n",
    "\n",
    "if velocidad_asteroide > 25:\n",
    "    print(\"¡Cuidado Explorer, se acerca un asteroide demasiado rápido!\")\n",
    "else:\n",
    "    print(\"¡No hay nada de qué preocuparse Explorer!\")"
   ]
  },
  {
   "cell_type": "markdown",
   "metadata": {},
   "source": [
    "Lógica condicional para alertar a todas las personas de todo el mundo que deben buscar un asteroide en el cielo."
   ]
  },
  {
   "cell_type": "code",
   "execution_count": 2,
   "metadata": {},
   "outputs": [
    {
     "name": "stdout",
     "output_type": "stream",
     "text": [
      "¡Explorer no hay nada que ver en el cielo!\n"
     ]
    }
   ],
   "source": [
    "velocidad_asteroide = 19 #km/s\n",
    "\n",
    "if velocidad_asteroide > 20:\n",
    "    print(\"¡Explorer debes buscar un asteroide en el cielo!\")\n",
    "elif velocidad_asteroide == 20:\n",
    "    print(\"¡Explorer debes buscar un asteroide en el cielo!\")\n",
    "else:\n",
    "    print(\"¡Explorer no hay nada que ver en el cielo!\")"
   ]
  },
  {
   "cell_type": "markdown",
   "metadata": {},
   "source": [
    "# Uso de operadores ``and`` y ``or``"
   ]
  },
  {
   "cell_type": "code",
   "execution_count": 3,
   "metadata": {},
   "outputs": [
    {
     "name": "stdout",
     "output_type": "stream",
     "text": [
      "¡Explorer, debes buscar un asteroide en el cielo!\n"
     ]
    }
   ],
   "source": [
    "velocidad_asteroide = 25 #km/s\n",
    "tamanio_asteroide = 40 #m\n",
    "\n",
    "if velocidad_asteroide > 25 and tamanio_asteroide > 25:\n",
    "    print(\"¡Explorer, un asteroide catastrófico se acerca a la Tierra!\")\n",
    "elif velocidad_asteroide >= 20:\n",
    "    print(\"¡Explorer, debes buscar un asteroide en el cielo!\")\n",
    "elif tamanio_asteroide < 25:\n",
    "    print(\"¡Explorer no hay nada que ver en el cielo!\")\n",
    "else:\n",
    "    print(\"¡Explorer no hay nada que ver en el cielo!\")"
   ]
  }
 ],
 "metadata": {
  "interpreter": {
   "hash": "35ae817b513a41ed72f514f8500fdc3216abc556569cd6bbb5c6bdaaa9acb4f7"
  },
  "kernelspec": {
   "display_name": "Python 3.9.2 ('env': venv)",
   "language": "python",
   "name": "python3"
  },
  "language_info": {
   "codemirror_mode": {
    "name": "ipython",
    "version": 3
   },
   "file_extension": ".py",
   "mimetype": "text/x-python",
   "name": "python",
   "nbconvert_exporter": "python",
   "pygments_lexer": "ipython3",
   "version": "3.9.2"
  },
  "orig_nbformat": 4
 },
 "nbformat": 4,
 "nbformat_minor": 2
}
