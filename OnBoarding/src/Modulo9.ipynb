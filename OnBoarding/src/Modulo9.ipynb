{
 "cells": [
  {
   "cell_type": "markdown",
   "metadata": {},
   "source": [
    "# Uso de funciones en Python"
   ]
  },
  {
   "cell_type": "markdown",
   "metadata": {},
   "source": [
    "Construiremos un informe de combustible que requiere información de varias ubicaciones de combustible en todo el cohete."
   ]
  },
  {
   "cell_type": "markdown",
   "metadata": {},
   "source": [
    "Creamos una función que necesite 3 lecturas de combustible y devuelve un promedio."
   ]
  },
  {
   "cell_type": "code",
   "execution_count": 1,
   "metadata": {},
   "outputs": [],
   "source": [
    "def informe_combustible(tanque_1, tanque_2, tanque_3):\n",
    "    total_combustible = tanque_1 + tanque_2 + tanque_3\n",
    "    return total_combustible / 3"
   ]
  },
  {
   "cell_type": "markdown",
   "metadata": {},
   "source": [
    "Para esta misión, los tanques no están llenos. Generamos el reporte."
   ]
  },
  {
   "cell_type": "code",
   "execution_count": 2,
   "metadata": {},
   "outputs": [
    {
     "name": "stdout",
     "output_type": "stream",
     "text": [
      "0.0\n"
     ]
    }
   ],
   "source": [
    "print(informe_combustible(0, 0, 0))"
   ]
  },
  {
   "cell_type": "markdown",
   "metadata": {},
   "source": [
    "Mejoramos la legibilidad extrayendo el cálculo promedio de la función en una nueva función para que el promedio se pueda hacer de forma independiente."
   ]
  },
  {
   "cell_type": "code",
   "execution_count": 3,
   "metadata": {},
   "outputs": [],
   "source": [
    "def promedio(tanque_1, tanque_2, tanque_3):\n",
    "    return (tanque_1 + tanque_2 + tanque_3) / 3"
   ]
  },
  {
   "cell_type": "markdown",
   "metadata": {},
   "source": [
    "Actualizamos la función de informes para llamar a la nueva función del promedio."
   ]
  },
  {
   "cell_type": "code",
   "execution_count": 4,
   "metadata": {},
   "outputs": [],
   "source": [
    "def informe_combustible(tanque_1, tanque_2, tanque_3):\n",
    "    return promedio(tanque_1, tanque_2, tanque_3)"
   ]
  },
  {
   "cell_type": "markdown",
   "metadata": {},
   "source": [
    "Comprobamos."
   ]
  },
  {
   "cell_type": "code",
   "execution_count": 5,
   "metadata": {},
   "outputs": [
    {
     "name": "stdout",
     "output_type": "stream",
     "text": [
      "2.0\n"
     ]
    }
   ],
   "source": [
    "print(informe_combustible(1, 2, 3))"
   ]
  },
  {
   "cell_type": "markdown",
   "metadata": {},
   "source": [
    "# Trabajo con argumentos de palabra clave"
   ]
  },
  {
   "cell_type": "markdown",
   "metadata": {},
   "source": [
    "Construimos un informe de cohete que requiere varias piezas de información, como el tiempo hasta el destino, el combustible y el nombre del destino."
   ]
  },
  {
   "cell_type": "code",
   "execution_count": 6,
   "metadata": {},
   "outputs": [
    {
     "name": "stdout",
     "output_type": "stream",
     "text": [
      "Total tiempo: 60 minutos\n",
      "    Destino: Marte\n",
      "    Total de combustible: 56000 litros\n",
      "    \n"
     ]
    }
   ],
   "source": [
    "# Función con un informe preciso de la misión. \n",
    "# Consideramos hora de prelanzamiento, tiempo de vuelo, destino, \n",
    "# tanque externo y tanque interno\n",
    "def informe_mision(hora_prelanzamiento, tiempo_vuelo, destino, tanque_externo, tanque_interno):\n",
    "    return f\"\"\"Total tiempo: {hora_prelanzamiento + tiempo_vuelo} minutos\n",
    "    Destino: {destino}\n",
    "    Total de combustible: {tanque_externo + tanque_interno} litros\n",
    "    \"\"\"\n",
    "\n",
    "print(informe_mision(10, 50, 'Marte', 22000, 34000))"
   ]
  },
  {
   "cell_type": "markdown",
   "metadata": {},
   "source": [
    "Hacemos la función más flexible permitiendo cualquier número de pasos basados en el tiempo y cualquier número de tanques. "
   ]
  },
  {
   "cell_type": "code",
   "execution_count": 11,
   "metadata": {},
   "outputs": [
    {
     "name": "stdout",
     "output_type": "stream",
     "text": [
      "Total tiempo: 87 minutos\n",
      "    Destino: Saturno\n",
      "    Total de combustible: 65000 litros\n",
      "    \n"
     ]
    }
   ],
   "source": [
    "def informe_mision(destino, *minutos, **tanques_combustible):\n",
    "    return f\"\"\"Total tiempo: {sum(minutos)} minutos\n",
    "    Destino: {destino}\n",
    "    Total de combustible: {sum(tanques_combustible.values())} litros\n",
    "    \"\"\"\n",
    "\n",
    "print(informe_mision('Saturno', 20, 13, 54, tanque_interno=25000, \n",
    "tanque_externo=30000, tanque_emergencia=10000))"
   ]
  },
  {
   "cell_type": "markdown",
   "metadata": {},
   "source": [
    "Actualizamos la función para usar el nombre de cada tanque en el informe."
   ]
  },
  {
   "cell_type": "code",
   "execution_count": 12,
   "metadata": {},
   "outputs": [
    {
     "name": "stdout",
     "output_type": "stream",
     "text": [
      "Total tiempo: 87 minutos\n",
      "    Destino: Saturno\n",
      "    Total de combustible: 65000 litros\n",
      "    tanque_interno : 25000 litros\n",
      "tanque_externo : 30000 litros\n",
      "tanque_emergencia : 10000 litros\n",
      "\n"
     ]
    }
   ],
   "source": [
    "def informe_mision(destino, *minutos, **tanques_combustible):\n",
    "    reporte_mision = f\"\"\"Total tiempo: {sum(minutos)} minutos\n",
    "    Destino: {destino}\n",
    "    Total de combustible: {sum(tanques_combustible.values())} litros\n",
    "    \"\"\"\n",
    "    for nombre_tanque, litros in tanques_combustible.items():\n",
    "        reporte_mision = reporte_mision + f'{nombre_tanque} : {litros} litros\\n'\n",
    "    \n",
    "    return reporte_mision\n",
    "    \n",
    "print(informe_mision('Saturno', 20, 13, 54, tanque_interno=25000, \n",
    "tanque_externo=30000, tanque_emergencia=10000))"
   ]
  }
 ],
 "metadata": {
  "interpreter": {
   "hash": "35ae817b513a41ed72f514f8500fdc3216abc556569cd6bbb5c6bdaaa9acb4f7"
  },
  "kernelspec": {
   "display_name": "Python 3.9.2 ('env': venv)",
   "language": "python",
   "name": "python3"
  },
  "language_info": {
   "codemirror_mode": {
    "name": "ipython",
    "version": 3
   },
   "file_extension": ".py",
   "mimetype": "text/x-python",
   "name": "python",
   "nbconvert_exporter": "python",
   "pygments_lexer": "ipython3",
   "version": "3.9.2"
  },
  "orig_nbformat": 4
 },
 "nbformat": 4,
 "nbformat_minor": 2
}
