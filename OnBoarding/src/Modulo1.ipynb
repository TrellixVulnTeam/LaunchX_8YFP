{
 "cells": [
  {
   "cell_type": "markdown",
   "metadata": {},
   "source": [
    "# Primer programa"
   ]
  },
  {
   "cell_type": "markdown",
   "metadata": {},
   "source": [
    "Código que muestra la fecha de hoy."
   ]
  },
  {
   "cell_type": "code",
   "execution_count": 1,
   "metadata": {},
   "outputs": [
    {
     "name": "stdout",
     "output_type": "stream",
     "text": [
      "La fecha de hoy es: 2022-02-06\n"
     ]
    }
   ],
   "source": [
    "from datetime import date\n",
    "\n",
    "fecha = date.today()\n",
    "print(\"La fecha de hoy es: \" + str(fecha))"
   ]
  },
  {
   "cell_type": "markdown",
   "metadata": {},
   "source": [
    "# Convertidor de unidades"
   ]
  },
  {
   "cell_type": "markdown",
   "metadata": {},
   "source": [
    "Programa de conversión entre parsecs y años luz. \n",
    "\n",
    "NOTA: 1 parsec = 3.26156 años luz."
   ]
  },
  {
   "cell_type": "code",
   "execution_count": 2,
   "metadata": {},
   "outputs": [
    {
     "name": "stdout",
     "output_type": "stream",
     "text": [
      "11 parsec, es 35.877159999999996 años luz.\n"
     ]
    }
   ],
   "source": [
    "parsec = input(\"Introduce los parsec: \")\n",
    "\n",
    "conversion_parsec_to_lightyears = float(parsec) * 3.26156\n",
    "\n",
    "print(str(parsec) + \" parsec, es \" + str(conversion_parsec_to_lightyears) + \" años luz.\")"
   ]
  }
 ],
 "metadata": {
  "interpreter": {
   "hash": "fbc05aefc5138339e86326c0933e0017460d8d382a1640adfde37b07fe7115b6"
  },
  "kernelspec": {
   "display_name": "Python 3.9.2 64-bit",
   "language": "python",
   "name": "python3"
  },
  "language_info": {
   "codemirror_mode": {
    "name": "ipython",
    "version": 3
   },
   "file_extension": ".py",
   "mimetype": "text/x-python",
   "name": "python",
   "nbconvert_exporter": "python",
   "pygments_lexer": "ipython3",
   "version": "3.9.2"
  },
  "orig_nbformat": 4
 },
 "nbformat": 4,
 "nbformat_minor": 2
}
